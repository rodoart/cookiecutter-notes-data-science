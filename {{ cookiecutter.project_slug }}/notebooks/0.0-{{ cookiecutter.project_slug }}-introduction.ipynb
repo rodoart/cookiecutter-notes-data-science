{
 "cells": [
  {
   "cell_type": "markdown",
   "metadata": {},
   "source": [
    "# {{ cookiecutter.project_name }}\n",
    "\n",
    "---\n",
    "# 1. Introducción"
   ]
  },
  {
   "cell_type": "markdown",
   "metadata": {},
   "source": [
    "## Conectarse a Colab"
   ]
  },
  {
   "cell_type": "code",
   "execution_count": null,
   "metadata": {
    "vscode": {
     "languageId": "plaintext"
    }
   },
   "outputs": [],
   "source": [
    "PROJECT_SLUG = '{{ cookiecutter.project_slug }}'\n",
    "DRIVE_MOUNT = \"/drive\"\n",
    "NAME = 'introduction'\n",
    "\n",
    "\n",
    "REMOTE_PATH = f'{DRIVE_MOUNT}/MyDrive/IA/Cursos/{PROJECT_SLUG}'\n",
    "COLAB_PATH = f'{DRIVE_MOUNT}/MyDrive/Colab Notebooks'\n",
    "NOTEBOOK_NAME = f'0.0-{PROJECT_SLUG}-{NAME}.ipynb'"
   ]
  },
  {
   "cell_type": "code",
   "execution_count": null,
   "metadata": {
    "vscode": {
     "languageId": "plaintext"
    }
   },
   "outputs": [],
   "source": [
    "from google.colab import drive\n",
    "drive.mount(DRIVE_MOUNT)"
   ]
  },
  {
   "cell_type": "markdown",
   "metadata": {},
   "source": [
    "## Rutas"
   ]
  },
  {
   "cell_type": "code",
   "execution_count": null,
   "metadata": {
    "vscode": {
     "languageId": "plaintext"
    }
   },
   "outputs": [],
   "source": [
    "import sys\n",
    "sys.path.append(f'{DRIVE_MOUNT}/MyDrive/proyects/rainfall_predictions')"
   ]
  },
  {
   "cell_type": "code",
   "execution_count": null,
   "metadata": {
    "vscode": {
     "languageId": "plaintext"
    }
   },
   "outputs": [],
   "source": [
    "from rainfall_predictions.utils.paths import make_dir_function\n",
    "from distutils.dir_util import copy_tree"
   ]
  },
  {
   "cell_type": "code",
   "execution_count": null,
   "metadata": {
    "vscode": {
     "languageId": "plaintext"
    }
   },
   "outputs": [],
   "source": [
    "local_dir = make_dir_function()\n",
    "remote_dir = make_dir_function(workspace = REMOTE_PATH)\n",
    "colab_dir = make_dir_function(workspace = COLAB_PATH)"
   ]
  },
  {
   "cell_type": "markdown",
   "metadata": {},
   "source": [
    "## Actualizar carpetas locales"
   ]
  },
  {
   "cell_type": "code",
   "execution_count": null,
   "metadata": {
    "vscode": {
     "languageId": "plaintext"
    }
   },
   "outputs": [],
   "source": [
    "copy_tree(str(drive_dir()), str(local_dir()))"
   ]
  },
  {
   "cell_type": "markdown",
   "metadata": {},
   "source": [
    "## Actualizar carpetas remotas"
   ]
  },
  {
   "cell_type": "code",
   "execution_count": null,
   "metadata": {
    "vscode": {
     "languageId": "plaintext"
    }
   },
   "outputs": [],
   "source": [
    "import os\n",
    "from shutil import copy\n",
    "\n",
    "local_file_names = os.listdir(local_dir())\n",
    "for name in local_file_names:\n",
    "  if (local_dir(name).is_dir() \n",
    "      and name not in ['notebooks', 'drive', '.config', '.git', 'sample_data', 'model']):\n",
    "  \n",
    "    copy_tree(str(local_dir(name)),\n",
    "              str(remote_dir(name)))\n",
    "    \n",
    "\n",
    "  \n",
    "copy(colab_dir(NOTEBOOK_NAME), \n",
    "     remote_dir('notebooks', NOTEBOOK_NAME))"
   ]
  }
 ],
 "metadata": {
  "language_info": {
   "name": "python"
  },
  "orig_nbformat": 4
 },
 "nbformat": 4,
 "nbformat_minor": 2
}
