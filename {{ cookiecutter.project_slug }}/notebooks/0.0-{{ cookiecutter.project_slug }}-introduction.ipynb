{
 "cells": [
  {
   "cell_type": "markdown",
   "metadata": {},
   "source": [
    "# {{ cookiecutter.project_name|upper }}\n",
    "\n",
    "---\n"
   ]
  },
  {
   "cell_type": "markdown",
   "metadata": {},
   "source": [
    "# Configurar Google Colab\n",
    "\n",
    "Constantes para las rutas."
   ]
  },
  {
   "cell_type": "code",
   "execution_count": null,
   "metadata": {
    "vscode": {
     "languageId": "plaintext"
    }
   },
   "outputs": [],
   "source": [
    "PROJECT_SLUG = '{{ cookiecutter.project_slug }}'\n",
    "NAME = 'introduction'\n",
    "NUMBER = '0.0'\n",
    "COLAB = TRUE\n",
    "\n",
    "\n",
    "NOTEBOOK_NAME = f'{NUMBER}-{PROJECT_SLUG}-{NAME}.ipynb'\n",
    "\n",
    "if COLAB:\n",
    "    # COLAB\n",
    "    DRIVE_MOUNT = '/drive'\n",
    "    REMOTE_PATH = f'{DRIVE_MOUNT}/MyDrive/IA/Cursos/{PROJECT_SLUG}'\n",
    "    LOCAL_PATH = '.'\n",
    "    NOTEBOOK_PATH = f'{DRIVE_MOUNT}/MyDrive/Colab Notebooks/{NOTEBOOK_NAME}'\n",
    "else:\n",
    "    # LOCAL\n",
    "    REMOTE_PATH = '..'\n",
    "    LOCAL_PATH = '..'\n",
    "    DRIVE_MOUNT = ''\n",
    "    NOTEBOOK_PATH = f'G:\\\\Mi unidad\\\\Colab Notebooks\\\\{NOTEBOOK_NAME}'"
   ]
  },
  {
   "cell_type": "markdown",
   "metadata": {},
   "source": [
    "Montar _Google Colab_"
   ]
  },
  {
   "cell_type": "code",
   "execution_count": null,
   "metadata": {
    "vscode": {
     "languageId": "plaintext"
    }
   },
   "outputs": [],
   "source": [
    "if DRIVE_MOUNT:\n",
    "    from google.colab import drive\n",
    "    drive.mount(DRIVE_MOUNT)\n",
    "    to_remote = True\n",
    "else:\n",
    "    to_remote = False"
   ]
  },
  {
   "cell_type": "markdown",
   "metadata": {},
   "source": [
    "Cargar la función de las rutas"
   ]
  },
  {
   "cell_type": "code",
   "execution_count": null,
   "metadata": {
    "vscode": {
     "languageId": "plaintext"
    }
   },
   "outputs": [],
   "source": [
    "import sys\n",
    "sys.path.append(f'{DRIVE_MOUNT}/MyDrive/proyects/rainfall_predictions')"
   ]
  },
  {
   "cell_type": "code",
   "execution_count": null,
   "metadata": {
    "vscode": {
     "languageId": "plaintext"
    }
   },
   "outputs": [],
   "source": [
    "from rainfall_predictions.utils.paths \\\n",
    "    import make_remote_copy_of_workspace_functions"
   ]
  },
  {
   "cell_type": "markdown",
   "metadata": {},
   "source": [
    "Crear funciones de rutas"
   ]
  },
  {
   "cell_type": "code",
   "execution_count": null,
   "metadata": {
    "vscode": {
     "languageId": "plaintext"
    }
   },
   "outputs": [],
   "source": [
    "local_dir, update_from_remote, update_to_remote, update_notebook = \\\n",
    "    make_remote_copy_of_workspace_functions(\n",
    "        local_path=LOCAL_PATH,\n",
    "        remote_path=REMOTE_PATH,\n",
    "        notebook_path = NOTEBOOK_PATH\n",
    "    )"
   ]
  },
  {
   "cell_type": "markdown",
   "metadata": {},
   "source": [
    "Crear copia del directorio remoto en la ruta local"
   ]
  },
  {
   "cell_type": "code",
   "execution_count": null,
   "metadata": {
    "vscode": {
     "languageId": "plaintext"
    }
   },
   "outputs": [],
   "source": [
    "update_from_remote()"
   ]
  },
  {
   "cell_type": "markdown",
   "metadata": {},
   "source": [
    "# 1. Introducción"
   ]
  },
  {
   "cell_type": "markdown",
   "metadata": {},
   "source": [
    "# Crear copias en el directorio remoto\n",
    "\n",
    "Copiar el notebook"
   ]
  },
  {
   "cell_type": "code",
   "execution_count": null,
   "metadata": {
    "vscode": {
     "languageId": "plaintext"
    }
   },
   "outputs": [],
   "source": [
    "update_notebook(to_remote)"
   ]
  },
  {
   "cell_type": "markdown",
   "metadata": {},
   "source": [
    "Copiar el resto"
   ]
  },
  {
   "cell_type": "code",
   "execution_count": null,
   "metadata": {
    "vscode": {
     "languageId": "plaintext"
    }
   },
   "outputs": [],
   "source": [
    "update_from_remote()"
   ]
  }
 ],
 "metadata": {
  "language_info": {
   "name": "python"
  },
  "orig_nbformat": 4
 },
 "nbformat": 4,
 "nbformat_minor": 2
}
